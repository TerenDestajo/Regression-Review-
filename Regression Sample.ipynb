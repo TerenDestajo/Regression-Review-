{
 "cells": [
  {
   "cell_type": "code",
   "execution_count": 22,
   "id": "236b77da-b609-475c-914b-252b3e9b02e1",
   "metadata": {},
   "outputs": [
    {
     "name": "stdout",
     "output_type": "stream",
     "text": [
      "   college_rank  avg_sat_score  acceptance_rate  private       tuition\n",
      "0           103           1064         0.290110        1  64769.967324\n",
      "1           180           1520         0.682573        1  69836.435885\n",
      "2            93           1343         0.394227        1  69655.131246\n",
      "3            15           1128         0.605845        1  74427.871148\n",
      "4           107           1471         0.606824        1  75176.698709\n",
      "                            OLS Regression Results                            \n",
      "==============================================================================\n",
      "Dep. Variable:                tuition   R-squared:                       0.810\n",
      "Model:                            OLS   Adj. R-squared:                  0.802\n",
      "Method:                 Least Squares   F-statistic:                     101.4\n",
      "Date:                Sat, 19 Apr 2025   Prob (F-statistic):           2.07e-33\n",
      "Time:                        14:26:48   Log-Likelihood:                -985.25\n",
      "No. Observations:                 100   AIC:                             1980.\n",
      "Df Residuals:                      95   BIC:                             1994.\n",
      "Df Model:                           4                                         \n",
      "Covariance Type:            nonrobust                                         \n",
      "===================================================================================\n",
      "                      coef    std err          t      P>|t|      [0.025      0.975]\n",
      "-----------------------------------------------------------------------------------\n",
      "const            4.603e+04   3972.746     11.587      0.000    3.81e+04    5.39e+04\n",
      "college_rank     -102.7245      7.929    -12.955      0.000    -118.466     -86.983\n",
      "avg_sat_score      24.3487      2.726      8.931      0.000      18.936      29.761\n",
      "acceptance_rate -1.142e+04   2043.463     -5.589      0.000   -1.55e+04   -7364.315\n",
      "private          9214.1115    966.430      9.534      0.000    7295.504    1.11e+04\n",
      "==============================================================================\n",
      "Omnibus:                        1.036   Durbin-Watson:                   2.273\n",
      "Prob(Omnibus):                  0.596   Jarque-Bera (JB):                0.571\n",
      "Skew:                          -0.128   Prob(JB):                        0.751\n",
      "Kurtosis:                       3.267   Cond. No.                     1.15e+04\n",
      "==============================================================================\n",
      "\n",
      "Notes:\n",
      "[1] Standard Errors assume that the covariance matrix of the errors is correctly specified.\n",
      "[2] The condition number is large, 1.15e+04. This might indicate that there are\n",
      "strong multicollinearity or other numerical problems.\n"
     ]
    }
   ],
   "source": [
    "import pandas as pd\n",
    "import numpy as np\n",
    "import statsmodels.api as sm\n",
    "import matplotlib.pyplot as plt\n",
    "\n",
    "# Step 1: Simulate a sample college dataset\n",
    "np.random.seed(42)\n",
    "\n",
    "# Let's assume we have 100 colleges\n",
    "n = 100\n",
    "data = pd.DataFrame({\n",
    "    'college_rank': np.random.randint(1, 200, n),          # Lower rank = more prestigious\n",
    "    'avg_sat_score': np.random.randint(1000, 1600, n),\n",
    "    'acceptance_rate': np.random.uniform(0.1, 0.9, n),\n",
    "    'private': np.random.choice([0, 1], size=n),           # 1 = private, 0 = public\n",
    "    'tuition': None  # Will calculate this below\n",
    "})\n",
    "\n",
    "# Create tuition using a simple formula + noise\n",
    "data['tuition'] = (\n",
    "    50000 - data['college_rank'] * 100\n",
    "    + data['avg_sat_score'] * 20\n",
    "    - data['acceptance_rate'] * 10000\n",
    "    + data['private'] * 10000\n",
    "    + np.random.normal(0, 5000, n)  # add noise\n",
    ")\n",
    "\n",
    "# Optional: quick check\n",
    "print(data.head())\n",
    "\n",
    "# Step 2: Linear Regression using statsmodels\n",
    "X = data[['college_rank', 'avg_sat_score', 'acceptance_rate', 'private']]\n",
    "y = data['tuition']\n",
    "\n",
    "# Add constant for intercept\n",
    "X = sm.add_constant(X)\n",
    "\n",
    "# Fit the model\n",
    "model = sm.OLS(y, X).fit()\n",
    "\n",
    "# Step 3: Show the summary\n",
    "print(model.summary())"
   ]
  },
  {
   "cell_type": "code",
   "execution_count": 24,
   "id": "cdaaf2d5-9768-4a1f-954a-ef4d5902119f",
   "metadata": {},
   "outputs": [],
   "source": [
    "from sklearn.model_selection import train_test_split\n",
    "from sklearn.tree import DecisionTreeRegressor\n",
    "from sklearn.ensemble import RandomForestRegressor\n",
    "\n",
    "# Features and target\n",
    "features = ['college_rank', 'avg_sat_score', 'acceptance_rate', 'private']\n",
    "X = data[features]\n",
    "y = data['tuition']\n",
    "\n",
    "# Train-test split\n",
    "X_train, X_test, y_train, y_test = train_test_split(X, y, test_size=0.2, random_state=42)"
   ]
  },
  {
   "cell_type": "code",
   "execution_count": 26,
   "id": "57714e70-e80a-42c8-9d8b-fd5918441f80",
   "metadata": {},
   "outputs": [],
   "source": [
    "# Fit decision tree\n",
    "dtree = DecisionTreeRegressor(random_state=42)\n",
    "dtree.fit(X_train, y_train)\n",
    "\n",
    "# Predict\n",
    "dtree_preds = dtree.predict(X_test)"
   ]
  },
  {
   "cell_type": "code",
   "execution_count": 28,
   "id": "d5fc1e84-bb8e-48e6-9dc1-87292e6e285f",
   "metadata": {},
   "outputs": [],
   "source": [
    "# Fit random forest\n",
    "rf = RandomForestRegressor(n_estimators=100, random_state=42)\n",
    "rf.fit(X_train, y_train)\n",
    "\n",
    "# Predict\n",
    "rf_preds = rf.predict(X_test)"
   ]
  },
  {
   "cell_type": "code",
   "execution_count": 30,
   "id": "9c8d2fa5-a670-4acf-aadc-a0371e800510",
   "metadata": {},
   "outputs": [
    {
     "name": "stdout",
     "output_type": "stream",
     "text": [
      "Decision Tree R²: 0.4431779542565918\n",
      "Decision Tree RMSE: 8767.579344122478\n",
      "Random Forest R²: 0.6842402141938284\n",
      "Random Forest RMSE: 6602.370679189216\n"
     ]
    }
   ],
   "source": [
    "from sklearn.metrics import r2_score, root_mean_squared_error\n",
    "\n",
    "# For Decision Tree\n",
    "print(\"Decision Tree R²:\", r2_score(y_test, dtree_preds))\n",
    "print(\"Decision Tree RMSE:\", root_mean_squared_error(y_test, dtree_preds))\n",
    "\n",
    "# For Random Forest\n",
    "print(\"Random Forest R²:\", r2_score(y_test, rf_preds))\n",
    "print(\"Random Forest RMSE:\", root_mean_squared_error(y_test, rf_preds))"
   ]
  },
  {
   "cell_type": "code",
   "execution_count": 32,
   "id": "1185321e-4b1f-4a70-92a9-7b6f10257ffb",
   "metadata": {},
   "outputs": [
    {
     "name": "stdout",
     "output_type": "stream",
     "text": [
      "Decision Tree MAE: 7319.065988084292\n",
      "Random Forest MAE: 5749.2860218893475\n"
     ]
    }
   ],
   "source": [
    "from sklearn.metrics import mean_absolute_error\n",
    "\n",
    "# Decision Tree\n",
    "print(\"Decision Tree MAE:\", mean_absolute_error(y_test, dtree_preds))\n",
    "\n",
    "# Random Forest\n",
    "print(\"Random Forest MAE:\", mean_absolute_error(y_test, rf_preds))"
   ]
  },
  {
   "cell_type": "code",
   "execution_count": 34,
   "id": "45752175-734d-4270-a07e-8feb90a13b74",
   "metadata": {},
   "outputs": [
    {
     "data": {
      "image/png": "[encoded data removed]",
      "text/plain": [
       "<Figure size 800x500 with 1 Axes>"
      ]
     },
     "metadata": {},
     "output_type": "display_data"
    }
   ],
   "source": [
    "import seaborn as sns\n",
    "import matplotlib.pyplot as plt\n",
    "\n",
    "residuals = y_test - rf_preds\n",
    "\n",
    "plt.figure(figsize=(8, 5))\n",
    "sns.scatterplot(x=rf_preds, y=residuals)\n",
    "plt.axhline(0, color='red', linestyle='--')\n",
    "plt.title(\"Random Forest Residuals\")\n",
    "plt.xlabel(\"Predicted Tuition\")\n",
    "plt.ylabel(\"Residuals\")\n",
    "plt.show()"
   ]
  },
  {
   "cell_type": "code",
   "execution_count": 36,
   "id": "9f844232-e1b4-40f7-9436-1f45701900de",
   "metadata": {},
   "outputs": [
    {
     "data": {
      "text/plain": [
       "['random_forest_model.pkl']"
      ]
     },
     "execution_count": 36,
     "metadata": {},
     "output_type": "execute_result"
    }
   ],
   "source": [
    "import joblib\n",
    "\n",
    "# Save the model\n",
    "joblib.dump(rf, \"random_forest_model.pkl\")"
   ]
  },
  {
   "cell_type": "code",
   "execution_count": 38,
   "id": "3360e6f0-718f-4aed-b3fc-2552c06da643",
   "metadata": {},
   "outputs": [
    {
     "name": "stdout",
     "output_type": "stream",
     "text": [
      "Predicted tuition: 60275.69810402429\n"
     ]
    }
   ],
   "source": [
    "# Load the model\n",
    "loaded_model = joblib.load(\"random_forest_model.pkl\")\n",
    "\n",
    "# Predict new data\n",
    "sample = X_test.iloc[[0]]  # example row\n",
    "predicted_tuition = loaded_model.predict(sample)\n",
    "print(\"Predicted tuition:\", predicted_tuition[0])"
   ]
  },
  {
   "cell_type": "code",
   "execution_count": null,
   "id": "8d998e2e-4457-4760-ace4-b8da119fefb8",
   "metadata": {},
   "outputs": [],
   "source": []
  }
 ],
 "metadata": {
  "kernelspec": {
   "display_name": "Python 3 (ipykernel)",
   "language": "python",
   "name": "python3"
  },
  "language_info": {
   "codemirror_mode": {
    "name": "ipython",
    "version": 3
   },
   "file_extension": ".py",
   "mimetype": "text/x-python",
   "name": "python",
   "nbconvert_exporter": "python",
   "pygments_lexer": "ipython3",
   "version": "3.12.4"
  }
 },
 "nbformat": 4,
 "nbformat_minor": 5
}
